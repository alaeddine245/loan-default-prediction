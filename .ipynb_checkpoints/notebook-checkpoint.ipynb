{
 "cells": [
  {
   "cell_type": "markdown",
   "metadata": {},
   "source": [
    "# IMPORTS"
   ]
  },
  {
   "cell_type": "code",
   "execution_count": null,
   "metadata": {
    "execution": {
     "iopub.execute_input": "2022-04-19T06:36:08.184743Z",
     "iopub.status.busy": "2022-04-19T06:36:08.184271Z",
     "iopub.status.idle": "2022-04-19T06:36:09.316911Z",
     "shell.execute_reply": "2022-04-19T06:36:09.316200Z",
     "shell.execute_reply.started": "2022-04-19T06:36:08.184615Z"
    }
   },
   "outputs": [],
   "source": [
    "import numpy as np \n",
    "import pandas as pd\n",
    "import seaborn as sns\n",
    "from xgboost import XGBClassifier\n",
    "from sklearn.model_selection import GridSearchCV"
   ]
  },
  {
   "cell_type": "code",
   "execution_count": null,
   "metadata": {},
   "outputs": [],
   "source": [
    "#Run this to install version 1.5.2 of xgboost\n",
    "!pip install 'xgboost==1.5.2'"
   ]
  },
  {
   "cell_type": "markdown",
   "metadata": {},
   "source": [
    "# READING DATA"
   ]
  },
  {
   "cell_type": "code",
   "execution_count": 4,
   "metadata": {
    "execution": {
     "iopub.execute_input": "2022-04-19T06:36:10.762941Z",
     "iopub.status.busy": "2022-04-19T06:36:10.762576Z",
     "iopub.status.idle": "2022-04-19T06:36:10.908809Z",
     "shell.execute_reply": "2022-04-19T06:36:10.908089Z",
     "shell.execute_reply.started": "2022-04-19T06:36:10.762910Z"
    }
   },
   "outputs": [],
   "source": [
    "train_prev = pd.read_csv('./data/trainprevloans/trainprevloans.csv')\n",
    "train_perf = pd.read_csv('./data/trainperf.csv')\n",
    "train_demog = pd.read_csv('./data/traindemographics.csv')"
   ]
  },
  {
   "cell_type": "markdown",
   "metadata": {},
   "source": [
    "# FEATURE ENGINEEERING AND PREPROCESSING"
   ]
  },
  {
   "cell_type": "code",
   "execution_count": 3,
   "metadata": {
    "execution": {
     "iopub.execute_input": "2022-04-19T06:36:12.176718Z",
     "iopub.status.busy": "2022-04-19T06:36:12.176059Z",
     "iopub.status.idle": "2022-04-19T06:36:17.154037Z",
     "shell.execute_reply": "2022-04-19T06:36:17.153299Z",
     "shell.execute_reply.started": "2022-04-19T06:36:12.176602Z"
    }
   },
   "outputs": [],
   "source": [
    "# Making new features with better insights from the previous loans data\n",
    "train_prev.firstrepaiddate = pd.to_datetime(train_prev.firstrepaiddate)\n",
    "train_prev.firstduedate = pd.to_datetime(train_prev.firstduedate)\n",
    "\n",
    "sum_loans = train_prev.groupby('customerid').loanamount.sum()\n",
    "sum_dues = train_prev.groupby('customerid').totaldue.sum()\n",
    "\n",
    "train_prev['score']=0.0\n",
    "train_prev['delay']= 0\n",
    "def score_transformation(x):\n",
    "    x.score = sum_dues[x.customerid]/sum_loans[x.customerid]\n",
    "    return x\n",
    "def delay_transformation(x):\n",
    "    x.delay = (x.firstrepaiddate- x.firstduedate).days\n",
    "    return x   \n",
    "train_prev= train_prev.apply(score_transformation, axis=1)\n",
    "train_prev= train_prev.apply(delay_transformation, axis=1)\n",
    "score = train_prev.groupby('customerid').score.mean()\n",
    "delay = train_prev.groupby('customerid').delay.mean()\n",
    "\n",
    "sc_del= pd.concat([score, delay], axis=1)\n"
   ]
  },
  {
   "cell_type": "code",
   "execution_count": 4,
   "metadata": {
    "execution": {
     "iopub.execute_input": "2022-04-19T06:36:19.194856Z",
     "iopub.status.busy": "2022-04-19T06:36:19.194609Z",
     "iopub.status.idle": "2022-04-19T06:36:19.251975Z",
     "shell.execute_reply": "2022-04-19T06:36:19.251161Z",
     "shell.execute_reply.started": "2022-04-19T06:36:19.194828Z"
    }
   },
   "outputs": [],
   "source": [
    "#Merging the train dataframes\n",
    "train = train_perf.set_index('customerid').join(sc_del.join(train_demog.set_index('customerid')))\n",
    "train.head()"
   ]
  },
  {
   "cell_type": "code",
   "execution_count": 5,
   "metadata": {
    "execution": {
     "iopub.execute_input": "2022-04-19T06:36:20.394784Z",
     "iopub.status.busy": "2022-04-19T06:36:20.394539Z",
     "iopub.status.idle": "2022-04-19T06:36:20.423529Z",
     "shell.execute_reply": "2022-04-19T06:36:20.422864Z",
     "shell.execute_reply.started": "2022-04-19T06:36:20.394757Z"
    }
   },
   "outputs": [],
   "source": [
    "#Creating an age feature\n",
    "train.birthdate = pd.to_datetime(train.birthdate)\n",
    "train.birthdate = train.birthdate.map(lambda x: 2022-x.year)\n",
    "train.rename(columns={'birthdate':'age'}, inplace=True)"
   ]
  },
  {
   "cell_type": "code",
   "execution_count": 6,
   "metadata": {
    "execution": {
     "iopub.execute_input": "2022-04-19T06:36:32.315731Z",
     "iopub.status.busy": "2022-04-19T06:36:32.315470Z",
     "iopub.status.idle": "2022-04-19T06:36:32.325572Z",
     "shell.execute_reply": "2022-04-19T06:36:32.324747Z",
     "shell.execute_reply.started": "2022-04-19T06:36:32.315701Z"
    }
   },
   "outputs": [],
   "source": [
    "#Preprocessing the target feature\n",
    "train.good_bad_flag= train.good_bad_flag.map(lambda x : 0 if x=='Bad' else 1)"
   ]
  },
  {
   "cell_type": "code",
   "execution_count": 7,
   "metadata": {
    "execution": {
     "iopub.execute_input": "2022-04-19T06:36:32.464054Z",
     "iopub.status.busy": "2022-04-19T06:36:32.463594Z",
     "iopub.status.idle": "2022-04-19T06:36:32.493211Z",
     "shell.execute_reply": "2022-04-19T06:36:32.492567Z",
     "shell.execute_reply.started": "2022-04-19T06:36:32.464011Z"
    }
   },
   "outputs": [],
   "source": [
    "train"
   ]
  },
  {
   "cell_type": "code",
   "execution_count": 8,
   "metadata": {
    "execution": {
     "iopub.execute_input": "2022-04-19T06:36:39.155573Z",
     "iopub.status.busy": "2022-04-19T06:36:39.155317Z",
     "iopub.status.idle": "2022-04-19T06:36:39.346927Z",
     "shell.execute_reply": "2022-04-19T06:36:39.346289Z",
     "shell.execute_reply.started": "2022-04-19T06:36:39.155546Z"
    }
   },
   "outputs": [],
   "source": [
    "#Visualizing the proportions of target classes\n",
    "sns.countplot(x='good_bad_flag', data=train)"
   ]
  },
  {
   "cell_type": "code",
   "execution_count": 9,
   "metadata": {
    "execution": {
     "iopub.execute_input": "2022-04-19T06:36:41.615460Z",
     "iopub.status.busy": "2022-04-19T06:36:41.614646Z",
     "iopub.status.idle": "2022-04-19T06:36:41.622218Z",
     "shell.execute_reply": "2022-04-19T06:36:41.621542Z",
     "shell.execute_reply.started": "2022-04-19T06:36:41.615417Z"
    }
   },
   "outputs": [],
   "source": [
    "#Resetting the index\n",
    "train=train.reset_index()"
   ]
  },
  {
   "cell_type": "code",
   "execution_count": 10,
   "metadata": {
    "execution": {
     "iopub.execute_input": "2022-04-19T06:36:44.211922Z",
     "iopub.status.busy": "2022-04-19T06:36:44.211669Z",
     "iopub.status.idle": "2022-04-19T06:36:44.230823Z",
     "shell.execute_reply": "2022-04-19T06:36:44.230159Z",
     "shell.execute_reply.started": "2022-04-19T06:36:44.211893Z"
    }
   },
   "outputs": [],
   "source": [
    "#Dropping unnecessary columns and dealing with categorical ones\n",
    "train=train.drop(['customerid'], axis=1)\n",
    "X, y = train.drop(['loannumber', 'approveddate', 'creationdate', 'systemloanid', 'good_bad_flag'], axis=1), train['good_bad_flag']\n",
    "for c in ['bank_account_type', 'bank_name_clients', 'bank_branch_clients', 'employment_status_clients', 'level_of_education_clients', 'referredby']:\n",
    "    X[c] = X[c].astype('category')"
   ]
  },
  {
   "cell_type": "code",
   "execution_count": 11,
   "metadata": {
    "execution": {
     "iopub.execute_input": "2022-04-19T06:36:47.630813Z",
     "iopub.status.busy": "2022-04-19T06:36:47.630563Z",
     "iopub.status.idle": "2022-04-19T06:36:47.635731Z",
     "shell.execute_reply": "2022-04-19T06:36:47.634929Z",
     "shell.execute_reply.started": "2022-04-19T06:36:47.630785Z"
    }
   },
   "outputs": [],
   "source": [
    "#param_grid={\n",
    "#    'max_depth': range(2, 10, 2),\n",
    "#    'n_estimators': range(26, 86, 2),\n",
    "#    'learning_rate': [0.2, 0.1, 0.03,0.05,  0.01]\n",
    "#}\n",
    "\n",
    "#xg = XGBClassifier(eval_metric='error', n_jobs = -1, tree_method='gpu_hist', use_label_encoder = False, enable_categorical='True')\n",
    "#gs_xg = GridSearchCV(xg, param_grid, cv = 5, n_jobs = -1, verbose = 1)\n",
    "#gs_xg.fit(X, y)\n",
    "\n",
    "#xg_best = gs_xg.best_estimator_\n",
    "#gs_xg.best_params_, gs_xg.score(X, y)"
   ]
  },
  {
   "cell_type": "code",
   "execution_count": 16,
   "metadata": {
    "execution": {
     "iopub.execute_input": "2022-04-19T06:38:14.196182Z",
     "iopub.status.busy": "2022-04-19T06:38:14.195897Z",
     "iopub.status.idle": "2022-04-19T06:38:14.283838Z",
     "shell.execute_reply": "2022-04-19T06:38:14.283154Z",
     "shell.execute_reply.started": "2022-04-19T06:38:14.196152Z"
    }
   },
   "outputs": [],
   "source": [
    "xg_best=XGBClassifier(eval_metric='error',learning_rate=0.05, n_estimators=58, tree_method='gpu_hist', max_depth=2, use_label_encoder=False, enable_categorical=True)\n",
    "xg_best.fit(X,y)"
   ]
  },
  {
   "cell_type": "markdown",
   "metadata": {},
   "source": [
    "# Preprocessing test data and preparing submission"
   ]
  },
  {
   "cell_type": "code",
   "execution_count": 17,
   "metadata": {
    "execution": {
     "iopub.execute_input": "2022-04-19T06:38:19.375975Z",
     "iopub.status.busy": "2022-04-19T06:38:19.375324Z",
     "iopub.status.idle": "2022-04-19T06:38:19.450842Z",
     "shell.execute_reply": "2022-04-19T06:38:19.450146Z",
     "shell.execute_reply.started": "2022-04-19T06:38:19.375938Z"
    }
   },
   "outputs": [],
   "source": [
    "submission = pd.read_csv('./data/SampleSubmission.csv')\n",
    "test_prev = pd.read_csv('./data/testprevloans/testprevloans.csv')\n",
    "test_perf = pd.read_csv('./data/testperf.csv')\n",
    "test_demog = pd.read_csv('./data/testdemographics.csv')"
   ]
  },
  {
   "cell_type": "code",
   "execution_count": 18,
   "metadata": {
    "execution": {
     "iopub.execute_input": "2022-04-19T06:38:20.044018Z",
     "iopub.status.busy": "2022-04-19T06:38:20.043757Z",
     "iopub.status.idle": "2022-04-19T06:38:21.529270Z",
     "shell.execute_reply": "2022-04-19T06:38:21.528564Z",
     "shell.execute_reply.started": "2022-04-19T06:38:20.043990Z"
    }
   },
   "outputs": [],
   "source": [
    "test_prev.firstrepaiddate = pd.to_datetime(test_prev.firstrepaiddate)\n",
    "test_prev.firstduedate = pd.to_datetime(test_prev.firstduedate)\n",
    "\n",
    "sum_loans = test_prev.groupby('customerid').loanamount.sum()\n",
    "sum_dues = test_prev.groupby('customerid').totaldue.sum()\n",
    "\n",
    "test_prev['score']=0.0\n",
    "test_prev['delay']= 0\n",
    "def score_transformation(x):\n",
    "    x.score = sum_dues[x.customerid]/sum_loans[x.customerid]\n",
    "    return x\n",
    "def delay_transformation(x):\n",
    "    x.delay = (x.firstrepaiddate- x.firstduedate).days\n",
    "    return x   \n",
    "test_prev= test_prev.apply(score_transformation, axis=1)\n",
    "test_prev= test_prev.apply(delay_transformation, axis=1)\n",
    "score = test_prev.groupby('customerid').score.mean()\n",
    "delay = test_prev.groupby('customerid').delay.mean()\n",
    "\n",
    "sc_del= pd.concat([score, delay], axis=1)"
   ]
  },
  {
   "cell_type": "code",
   "execution_count": 19,
   "metadata": {
    "execution": {
     "iopub.execute_input": "2022-04-19T06:38:24.595389Z",
     "iopub.status.busy": "2022-04-19T06:38:24.594934Z",
     "iopub.status.idle": "2022-04-19T06:38:24.612210Z",
     "shell.execute_reply": "2022-04-19T06:38:24.611560Z",
     "shell.execute_reply.started": "2022-04-19T06:38:24.595351Z"
    }
   },
   "outputs": [],
   "source": [
    "test = test_perf.set_index('customerid').join(sc_del).join(test_demog.set_index('customerid'))"
   ]
  },
  {
   "cell_type": "code",
   "execution_count": 20,
   "metadata": {
    "execution": {
     "iopub.execute_input": "2022-04-19T06:38:25.283124Z",
     "iopub.status.busy": "2022-04-19T06:38:25.282631Z",
     "iopub.status.idle": "2022-04-19T06:38:25.297895Z",
     "shell.execute_reply": "2022-04-19T06:38:25.297270Z",
     "shell.execute_reply.started": "2022-04-19T06:38:25.283090Z"
    }
   },
   "outputs": [],
   "source": [
    "test.birthdate = pd.to_datetime(test.birthdate)\n",
    "test.birthdate = test.birthdate.map(lambda x: 2022-x.year)\n",
    "test.rename(columns={'birthdate':'age'}, inplace=True)"
   ]
  },
  {
   "cell_type": "code",
   "execution_count": 21,
   "metadata": {
    "execution": {
     "iopub.execute_input": "2022-04-19T06:38:25.715197Z",
     "iopub.status.busy": "2022-04-19T06:38:25.714474Z",
     "iopub.status.idle": "2022-04-19T06:38:25.721834Z",
     "shell.execute_reply": "2022-04-19T06:38:25.721114Z",
     "shell.execute_reply.started": "2022-04-19T06:38:25.715148Z"
    }
   },
   "outputs": [],
   "source": [
    "test=test.reset_index()"
   ]
  },
  {
   "cell_type": "code",
   "execution_count": 22,
   "metadata": {
    "execution": {
     "iopub.execute_input": "2022-04-19T06:38:28.735039Z",
     "iopub.status.busy": "2022-04-19T06:38:28.734551Z",
     "iopub.status.idle": "2022-04-19T06:38:28.749784Z",
     "shell.execute_reply": "2022-04-19T06:38:28.748868Z",
     "shell.execute_reply.started": "2022-04-19T06:38:28.735005Z"
    }
   },
   "outputs": [],
   "source": [
    "test=test.drop(['customerid'], axis=1)\n",
    "X_test= test.drop(['loannumber', 'approveddate', 'creationdate', 'systemloanid' ], axis=1)\n",
    "for c in ['bank_account_type', 'bank_name_clients', 'bank_branch_clients', 'employment_status_clients', 'level_of_education_clients', 'referredby']:\n",
    "    X_test[c] = X_test[c].astype('category')"
   ]
  },
  {
   "cell_type": "code",
   "execution_count": 23,
   "metadata": {
    "execution": {
     "iopub.execute_input": "2022-04-19T06:38:29.675604Z",
     "iopub.status.busy": "2022-04-19T06:38:29.674759Z",
     "iopub.status.idle": "2022-04-19T06:38:29.695067Z",
     "shell.execute_reply": "2022-04-19T06:38:29.694499Z",
     "shell.execute_reply.started": "2022-04-19T06:38:29.675551Z"
    }
   },
   "outputs": [],
   "source": [
    "pred=xg_best.predict(X_test)"
   ]
  },
  {
   "cell_type": "code",
   "execution_count": 24,
   "metadata": {
    "execution": {
     "iopub.execute_input": "2022-04-19T06:38:34.874865Z",
     "iopub.status.busy": "2022-04-19T06:38:34.874604Z",
     "iopub.status.idle": "2022-04-19T06:38:34.887351Z",
     "shell.execute_reply": "2022-04-19T06:38:34.886594Z",
     "shell.execute_reply.started": "2022-04-19T06:38:34.874835Z"
    }
   },
   "outputs": [],
   "source": [
    "submission['Good_Bad_flag'] = pred\n",
    "submission.to_csv('sub15.csv', index = False)"
   ]
  }
 ],
 "metadata": {
  "kernelspec": {
   "display_name": "Python 3 (ipykernel)",
   "language": "python",
   "name": "python3"
  },
  "language_info": {
   "codemirror_mode": {
    "name": "ipython",
    "version": 3
   },
   "file_extension": ".py",
   "mimetype": "text/x-python",
   "name": "python",
   "nbconvert_exporter": "python",
   "pygments_lexer": "ipython3",
   "version": "3.9.7"
  }
 },
 "nbformat": 4,
 "nbformat_minor": 4
}
